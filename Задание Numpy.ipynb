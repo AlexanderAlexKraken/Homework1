{
 "cells": [
  {
   "cell_type": "markdown",
   "id": "ca5dc994",
   "metadata": {},
   "source": [
    "# Задание 1"
   ]
  },
  {
   "cell_type": "code",
   "execution_count": 42,
   "id": "f7ef46fd",
   "metadata": {},
   "outputs": [],
   "source": [
    "import numpy as np"
   ]
  },
  {
   "cell_type": "code",
   "execution_count": 43,
   "id": "5de48d68",
   "metadata": {},
   "outputs": [
    {
     "name": "stdout",
     "output_type": "stream",
     "text": [
      "[[ 1  6]\n",
      " [ 2  8]\n",
      " [ 3 11]\n",
      " [ 3 10]\n",
      " [ 1  7]]\n"
     ]
    },
    {
     "data": {
      "text/plain": [
       "(5, 2)"
      ]
     },
     "execution_count": 43,
     "metadata": {},
     "output_type": "execute_result"
    }
   ],
   "source": [
    "a = np.array([[1, 2, 3, 3, 1],\n",
    "             [6, 8, 11, 10, 7]])\n",
    "a_t = np.transpose(a)\n",
    "print(a_t)\n",
    "type(a_t)\n",
    "#b = np.array(a_t, dtype = float)\n",
    "a_t.shape"
   ]
  },
  {
   "cell_type": "code",
   "execution_count": 44,
   "id": "45819d6f",
   "metadata": {},
   "outputs": [
    {
     "name": "stdout",
     "output_type": "stream",
     "text": [
      "[2.  8.4]\n",
      "Форма a (5, 2)\n"
     ]
    }
   ],
   "source": [
    "a_t.mean(axis=0)\n",
    "a_t_mean = a.mean(axis=0)\n",
    "print(a_mean)\n",
    "#print(\"Средние значения по признаку: {}\".format(a.mean(axis=1)))\n",
    "print(\"Форма a {}\".format(a_t.shape))"
   ]
  },
  {
   "cell_type": "markdown",
   "id": "fce76e93",
   "metadata": {},
   "source": [
    "# Задание 2"
   ]
  },
  {
   "cell_type": "code",
   "execution_count": 45,
   "id": "aba7c20e",
   "metadata": {},
   "outputs": [
    {
     "name": "stdout",
     "output_type": "stream",
     "text": [
      "[[-1.  -2.4]\n",
      " [ 0.  -0.4]\n",
      " [ 1.   2.6]\n",
      " [ 1.   1.6]\n",
      " [-1.  -1.4]]\n"
     ]
    },
    {
     "data": {
      "text/plain": [
       "(5, 2)"
      ]
     },
     "execution_count": 45,
     "metadata": {},
     "output_type": "execute_result"
    }
   ],
   "source": [
    "a_centered = a_t - a_mean\n",
    "#a_centered = np.subtract(a_t, a_mean)\n",
    "#a_centered = a[:, np.newaxis] - a_mean\n",
    "print(a_centered)\n",
    "a_centered.shape"
   ]
  },
  {
   "cell_type": "markdown",
   "id": "256bfe8c",
   "metadata": {},
   "source": [
    "### Задание 3"
   ]
  },
  {
   "cell_type": "code",
   "execution_count": 54,
   "id": "a6f3868f",
   "metadata": {},
   "outputs": [
    {
     "data": {
      "text/plain": [
       "array([[ 6.76,  0.96, -7.24, -4.84,  4.36],\n",
       "       [ 0.96,  0.16, -1.04, -0.64,  0.56],\n",
       "       [-7.24, -1.04,  7.76,  5.16, -4.64],\n",
       "       [-4.84, -0.64,  5.16,  3.56, -3.24],\n",
       "       [ 4.36,  0.56, -4.64, -3.24,  2.96]])"
      ]
     },
     "execution_count": 54,
     "metadata": {},
     "output_type": "execute_result"
    }
   ],
   "source": [
    "At = np.transpose(a_centered)\n",
    "At\n",
    "a_centered_sp = np.dot(a_centered, At)\n",
    "a_centered_sp\n",
    "# a_centered @ a_centered\n",
    "#I = np.eye(2)\n",
    "#I\n",
    "#a_centered_sp = np.dot(a_centered, I)\n",
    "#a_centered_sp"
   ]
  },
  {
   "cell_type": "code",
   "execution_count": 70,
   "id": "711f677d",
   "metadata": {},
   "outputs": [
    {
     "data": {
      "text/plain": [
       "array([[ 1.69,  0.24, -1.81, -1.21,  1.09],\n",
       "       [ 0.24,  0.04, -0.26, -0.16,  0.14],\n",
       "       [-1.81, -0.26,  1.94,  1.29, -1.16],\n",
       "       [-1.21, -0.16,  1.29,  0.89, -0.81],\n",
       "       [ 1.09,  0.14, -1.16, -0.81,  0.74]])"
      ]
     },
     "execution_count": 70,
     "metadata": {},
     "output_type": "execute_result"
    }
   ],
   "source": [
    "dev_centered = a_centered_sp / 4\n",
    "dev_centered"
   ]
  },
  {
   "cell_type": "code",
   "execution_count": 74,
   "id": "369101b7",
   "metadata": {},
   "outputs": [
    {
     "name": "stdout",
     "output_type": "stream",
     "text": [
      "[[[ 1  6]\n",
      "  [ 2  8]\n",
      "  [ 3 11]\n",
      "  [ 3 10]\n",
      "  [ 1  7]]]\n"
     ]
    },
    {
     "data": {
      "text/plain": [
       "(1, 5, 2)"
      ]
     },
     "execution_count": 74,
     "metadata": {},
     "output_type": "execute_result"
    }
   ],
   "source": [
    "a = np.array([[1, 2, 3, 3, 1],\n",
    "             [6, 8, 11, 10, 7]])\n",
    "a_ds = np.dstack(a)\n",
    "print(a_ds)\n",
    "type(a_ds)\n",
    "#b = np.array(a_t, dtype = float)\n",
    "a_ds.shape"
   ]
  },
  {
   "cell_type": "code",
   "execution_count": null,
   "id": "2326d538",
   "metadata": {},
   "outputs": [],
   "source": []
  }
 ],
 "metadata": {
  "kernelspec": {
   "display_name": "Python 3 (ipykernel)",
   "language": "python",
   "name": "python3"
  },
  "language_info": {
   "codemirror_mode": {
    "name": "ipython",
    "version": 3
   },
   "file_extension": ".py",
   "mimetype": "text/x-python",
   "name": "python",
   "nbconvert_exporter": "python",
   "pygments_lexer": "ipython3",
   "version": "3.9.12"
  }
 },
 "nbformat": 4,
 "nbformat_minor": 5
}
